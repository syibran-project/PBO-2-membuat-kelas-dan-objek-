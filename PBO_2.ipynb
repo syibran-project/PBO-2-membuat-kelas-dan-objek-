{
  "nbformat": 4,
  "nbformat_minor": 0,
  "metadata": {
    "colab": {
      "provenance": [],
      "authorship_tag": "ABX9TyNYiN5ZVUiop+PWfh4aiIWH",
      "include_colab_link": true
    },
    "kernelspec": {
      "name": "python3",
      "display_name": "Python 3"
    },
    "language_info": {
      "name": "python"
    }
  },
  "cells": [
    {
      "cell_type": "markdown",
      "metadata": {
        "id": "view-in-github",
        "colab_type": "text"
      },
      "source": [
        "<a href=\"https://colab.research.google.com/github/syibran-project/PBO-2-membuat-kelas-dan-objek-/blob/main/PBO_2.ipynb\" target=\"_parent\"><img src=\"https://colab.research.google.com/assets/colab-badge.svg\" alt=\"Open In Colab\"/></a>"
      ]
    },
    {
      "cell_type": "code",
      "source": [
        "class Mahasiswa:\n",
        "    def __init__(self, nama, nim):\n",
        "        self.nama = nama\n",
        "        self.nim = nim\n",
        "\n",
        "    def cetakkrs(self):\n",
        "        print(f\"mahasiswa atas nama ({self.nama} / {self.nim}) sudah mencetak krs.\")\n",
        "\n",
        "obj_mhs = Mahasiswa(\"Syibran Malawi\", \"230705093\")\n",
        "obj_mhs.cetakkrs()"
      ],
      "metadata": {
        "colab": {
          "base_uri": "https://localhost:8080/"
        },
        "id": "ranNSidFeFO2",
        "outputId": "46ec4718-e1c1-4b16-c4ba-56da389d15b3"
      },
      "execution_count": 38,
      "outputs": [
        {
          "output_type": "stream",
          "name": "stdout",
          "text": [
            "mahasiswa atas nama (Syibran Malawi / 230705093) sudah mencetak krs.\n"
          ]
        }
      ]
    },
    {
      "cell_type": "code",
      "source": [
        "class Lingkaran:\n",
        "    def __init__(self, radius):\n",
        "        self.radius = radius\n",
        "\n",
        "    def buatlingkaran(self):\n",
        "        pi = 3.14\n",
        "        luas = pi * (self.radius ** 2)\n",
        "        print(f\"luas bulat tsb jika radiusnya {self.radius} adalah {luas:.2f}.\")\n",
        "\n",
        "obj_blt = Lingkaran(10)\n",
        "obj_blt.buatlingkaran()"
      ],
      "metadata": {
        "colab": {
          "base_uri": "https://localhost:8080/"
        },
        "id": "l9sUpErxfkBO",
        "outputId": "ef7b683d-b9e2-4815-fbf2-9a093f7d07ad"
      },
      "execution_count": 37,
      "outputs": [
        {
          "output_type": "stream",
          "name": "stdout",
          "text": [
            "luas bulat tsb jika radiusnya 10 adalah 314.00.\n"
          ]
        }
      ]
    },
    {
      "cell_type": "code",
      "source": [
        "class Persegi:\n",
        "    def __init__(self, sisi):\n",
        "        self.sisi = sisi\n",
        "\n",
        "    def hitungluas(self):\n",
        "        luas = self.sisi ** 2\n",
        "        print(f\"luas kotak jika setiap sisisnya {self.sisi} adalah {luas}.\")\n",
        "\n",
        "obj_kotak = Persegi(6)\n",
        "obj_kotak.hitungluas()"
      ],
      "metadata": {
        "colab": {
          "base_uri": "https://localhost:8080/"
        },
        "id": "VcwEt-S8geAH",
        "outputId": "1099b3ba-f8ce-4aba-b5cc-38b26e1d0f43"
      },
      "execution_count": 36,
      "outputs": [
        {
          "output_type": "stream",
          "name": "stdout",
          "text": [
            "luas kotak jika setiap sisisnya 6 adalah 36.\n"
          ]
        }
      ]
    },
    {
      "cell_type": "code",
      "source": [
        "class PersegiPanjang:\n",
        "    def __init__(self, panjang, lebar):\n",
        "        self.panjang = panjang\n",
        "        self.lebar = lebar\n",
        "\n",
        "    def hitung_luas(self):\n",
        "        luas = self.panjang * self.lebar\n",
        "        print(f\"luas laptop jika memiliki P : {self.panjang} dan L : {self.lebar} adalah {luas}.\")\n",
        "\n",
        "obj_laptop = PersegiPanjang(15, 10)\n",
        "obj_laptop.hitung_luas()"
      ],
      "metadata": {
        "colab": {
          "base_uri": "https://localhost:8080/"
        },
        "id": "_nM935xjh33-",
        "outputId": "8166adee-cc00-4669-9f17-9b6ec95e702a"
      },
      "execution_count": 35,
      "outputs": [
        {
          "output_type": "stream",
          "name": "stdout",
          "text": [
            "luas laptop jika memiliki P : 15 dan L : 10 adalah 150.\n"
          ]
        }
      ]
    },
    {
      "cell_type": "code",
      "execution_count": 34,
      "metadata": {
        "colab": {
          "base_uri": "https://localhost:8080/"
        },
        "id": "xj4tVQc8d_0l",
        "outputId": "4352407a-4c4d-403b-f8b1-bdb8e21fe843"
      },
      "outputs": [
        {
          "output_type": "stream",
          "name": "stdout",
          "text": [
            "nama dosen: Malawi, S.T., M.T , mengajar: Pemrograman Python\n"
          ]
        }
      ],
      "source": [
        "class Dosen:\n",
        "    def __init__(self, nama_dosen, mata_kuliah):\n",
        "        self.nama = nama_dosen\n",
        "        self.mata_kuliah = mata_kuliah\n",
        "\n",
        "    def info_ngajar(self):\n",
        "        print(f\"nama dosen: {self.nama} , mengajar: {self.mata_kuliah}\")\n",
        "\n",
        "obj_dosen = Dosen(\"Malawi, S.T., M.T\",\"Pemrograman Python\")\n",
        "obj_dosen.info_ngajar()"
      ]
    }
  ]
}